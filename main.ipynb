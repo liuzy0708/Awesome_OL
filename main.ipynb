{
 "cells": [
  {
   "metadata": {},
   "cell_type": "markdown",
   "source": [
    "# Environment Setup:\n",
    "Before using this library, please ensure that you have the necessary packages and their corresponding versions.\n",
    "\n",
    "Please refer to the [README.md](https://github.com/liuzy0708/Online-Learning-Framework?tab=readme-ov-file#environment-setup) for details.\n"
   ],
   "id": "6fc77a37188b0e21"
  },
  {
   "metadata": {
    "collapsed": true,
    "ExecuteTime": {
     "end_time": "2025-07-12T07:02:46.237532Z",
     "start_time": "2025-07-12T07:02:44.394353Z"
    }
   },
   "cell_type": "code",
   "source": [
    "from io import StringIO\n",
    "from contextlib import redirect_stderr\n",
    "\n",
    "with redirect_stderr(StringIO()):\n",
    "    from tqdm.auto import tqdm\n",
    "from Tools.OL import *\n",
    "from Tools.ONE_STEP import *\n",
    "from Tools.TWO_STEP_CHUNK import *\n",
    "from Tools.TWO_STEP_INSTANCE import *"
   ],
   "id": "initial_id",
   "outputs": [],
   "execution_count": 1
  },
  {
   "metadata": {},
   "cell_type": "markdown",
   "source": [
    "# Visualization:\n",
    "Do you want to visualize the results? (Y/N)\n",
    "\n",
    "If yes, then:\n",
    "Do you want to generate the confusion matrix? (Y/N)\n",
    "\n",
    "If needed, the results will also be saved in a PDF document in the Results folder."
   ],
   "id": "810751d3f7f8c569"
  },
  {
   "metadata": {
    "ExecuteTime": {
     "end_time": "2025-07-12T07:02:46.269473Z",
     "start_time": "2025-07-12T07:02:46.248518Z"
    }
   },
   "cell_type": "code",
   "source": [
    "show_plot = 'Y'\n",
    "need_matrix = 'Y'"
   ],
   "id": "4db988dfba552616",
   "outputs": [],
   "execution_count": 2
  },
  {
   "metadata": {},
   "cell_type": "markdown",
   "source": [
    "# Settings:\n",
    "## There are four types of framework choices:\n",
    "1. OL: Online learning, processing data one sample at a time.\n",
    "2. ONE-STEP: Uses the classifiers in the OAL_classifier folder to complete model training and online learning in a single phase.\n",
    "3. TWO-STEP-CHUNK: Uses the classifiers in the classifier folder to complete model training and online learning in two phases, while also supporting batch processing.\n",
    "4. TWO-STEP-INSTANCE: Uses the classifiers in the classifier folder to complete model training and online learning in two steps, supporting only processing data one sample at a time.\n",
    "\n",
    "\n",
    "\n",
    "Please select the **number** corresponding to the framework.\n",
    "\n",
    "For example: entering 1 means selecting OL.\n",
    "\n",
    "## Then, please input your experiment parameters below:\n",
    "Include max_samples, n_round, n_pt, dataset_name.\n",
    "\n",
    "For \"dataset_name\", You can choose **one** of the following.\n",
    "\n",
    "``` python\n",
    "['Jiaolong', 'Waveform', 'SEA', 'Hyperplane' or './datasets/' + name + '.csv']\n",
    "```\n",
    "\n"
   ],
   "id": "7ded62b71109a590"
  },
  {
   "metadata": {
    "ExecuteTime": {
     "end_time": "2025-07-12T07:02:47.487772Z",
     "start_time": "2025-07-12T07:02:46.460328Z"
    }
   },
   "cell_type": "code",
   "source": [
    "framework = int(input(f\"Input the number (default: '1'): \") or \"1\")\n",
    "max_samples = 1000          #The range of tested stream\n",
    "n_round = 3                 #Number of run round\n",
    "n_pt = 100                  #Number of train samples\n",
    "dataset_name = \"Waveform\""
   ],
   "id": "53b8d965c7cdd105",
   "outputs": [],
   "execution_count": 3
  },
  {
   "metadata": {},
   "cell_type": "markdown",
   "source": [
    "# Next:\n",
    "Based on your framework, enter the models and parameters you need.\n",
    "\n",
    "(You can replace the content with what you want to test)\n",
    "\n",
    "\n",
    "1. If you choose \"OL\", valid models are:\n",
    "``` python\n",
    "['ARF', 'LB', 'OB', 'OBADWIN', 'DWM', 'OOB', 'SRP', 'AdaC2', 'QRBLS', 'BLS', 'OSSBLS', 'ISSBLS', 'SOSELM', 'NB', 'DES', 'DES_5', 'ACDWM', 'OLI2DS']\n",
    "```\n",
    "\n",
    "2. If you choose \"ONE-STEP\", valid models are:\n",
    "``` python\n",
    "['ROALE_DI', 'OALE']\n",
    "```\n",
    "\n",
    "3. If you choose \"TWO-STEP-CHUNK\", valid models and strategies are:\n",
    "``` python\n",
    "models:\n",
    "['ARF', 'LB', 'OB', 'OBADWIN', 'DWM', 'OOB', 'SRP', 'AdaC2', 'QRBLS', 'BLS', 'OSSBLS', 'ISSBLS', 'SOSELM', 'NB', 'DES', 'DES_5', 'ACDWM', 'OLI2DS']\n",
    "```\n",
    "``` python\n",
    "strategies:\n",
    "['DMI_DD']\n",
    "```\n",
    "\n",
    "4. If you choose \"TWO-STEP-INSTANCE\", valid models and strategies are:\n",
    "``` python\n",
    "models:\n",
    "['ARF', 'LB', 'OB', 'OBADWIN', 'DWM', 'OOB', 'SRP', 'AdaC2', 'QRBLS', 'BLS', 'OSSBLS', 'ISSBLS', 'SOSELM', 'NB', 'DES', 'DES_5', 'ACDWM', 'OLI2DS']\n",
    "```\n",
    "``` python\n",
    "strategies:\n",
    "['DSA_AI', 'Supervised', 'MTSGQS', 'US_fix', 'US_var', 'CogDQS', 'RS', 'DMI_DD']\n",
    "```\n",
    "\n",
    "\n",
    "\n",
    "\n"
   ],
   "id": "7168e20ff0397350"
  },
  {
   "metadata": {
    "ExecuteTime": {
     "end_time": "2025-07-12T07:02:47.575697Z",
     "start_time": "2025-07-12T07:02:47.556755Z"
    }
   },
   "cell_type": "code",
   "source": [
    "logger.info(\"--------------------------------------------------------------------------------------------------\")\n",
    "if framework == 1:                      #\"OL\"\n",
    "    clf_name_list = \"BLS,NB,ISSBLS,OSSBLS,DWM\"\n",
    "\n",
    "    experiment = OL(max_samples=max_samples, n_round=n_round, n_pt=n_pt, dataset_name=dataset_name,\n",
    "                    clf_name_list=clf_name_list)\n",
    "\n",
    "elif framework == 2:                        #\"ONE-STEP\"\n",
    "    method_name_list = \"OALE,ROALE_DI\"      #Only these two are supported.\n",
    "\n",
    "    experiment = One_Step(max_samples=max_samples, n_round=n_round, n_pt=n_pt, dataset_name=dataset_name, method_name_list=method_name_list)\n",
    "\n",
    "elif framework == 3:                    #\"TWO-STEP-CHUNK\"\n",
    "    n_ratio_max = 0.30                  #Annotation ratio\n",
    "    chunk_size = 20\n",
    "    clf_name_list = \"BLS\"\n",
    "    str_name_list = \"DMI_DD\"            #only support DMI_DD\n",
    "\n",
    "    experiment = Two_Step_Chunk(max_samples=max_samples, n_round=n_round, n_pt=n_pt,n_ratio_max=n_ratio_max, chunk_size=chunk_size, dataset_name=dataset_name, clf_name_list=clf_name_list, str_name_list=str_name_list)\n",
    "\n",
    "elif framework == 4:                #\"TWO-STEP-INSTANCE\"\n",
    "    clf_name_list = \"BLS,DWM\"\n",
    "    str_name_list = \"RS\"\n",
    "\n",
    "    experiment = Two_Step_Instance(max_samples=max_samples, n_round=n_round, n_pt=n_pt,dataset_name=dataset_name, clf_name_list=clf_name_list, str_name_list=str_name_list)\n",
    "\n",
    "else:\n",
    "    raise ValueError(\"Invalid framework\")"
   ],
   "id": "89380831be44c84d",
   "outputs": [],
   "execution_count": 4
  },
  {
   "metadata": {},
   "cell_type": "markdown",
   "source": [
    "# Run:\n",
    "The predicted results will be saved in CSV format in the Result folder.\n",
    "\n",
    "If you choose visualization, the visualization results will be displayed here and all plotted results will be saved too.\n",
    "\n",
    "The result includes the GIF form of Accuracy and F1, and the confusion matrix."
   ],
   "id": "a36d75313390daf3"
  },
  {
   "metadata": {},
   "cell_type": "code",
   "source": [
    "experiment.run()\n",
    "if show_plot == 'Y':\n",
    "    experiment.show(need_matrix=need_matrix)\n",
    "logger.info(\"--------------------------------------------------------------------------------------------------\")"
   ],
   "id": "19b2af2038453760",
   "outputs": [],
   "execution_count": null
  }
 ],
 "metadata": {
  "kernelspec": {
   "display_name": "Python 3",
   "language": "python",
   "name": "python3"
  },
  "language_info": {
   "codemirror_mode": {
    "name": "ipython",
    "version": 2
   },
   "file_extension": ".py",
   "mimetype": "text/x-python",
   "name": "python",
   "nbconvert_exporter": "python",
   "pygments_lexer": "ipython2",
   "version": "2.7.6"
  }
 },
 "nbformat": 4,
 "nbformat_minor": 5
}
